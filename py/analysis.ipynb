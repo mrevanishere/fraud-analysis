{
 "metadata": {
  "language_info": {
   "codemirror_mode": {
    "name": "ipython",
    "version": 3
   },
   "file_extension": ".py",
   "mimetype": "text/x-python",
   "name": "python",
   "nbconvert_exporter": "python",
   "pygments_lexer": "ipython3",
   "version": 3
  },
  "orig_nbformat": 2,
  "kernelspec": {
   "name": "python3",
   "language": "python",
   "display_name": "Python 3"
  }
 },
 "nbformat": 4,
 "nbformat_minor": 2,
 "cells": [
  {
   "cell_type": "markdown",
   "metadata": {
    "pycharm": {
     "name": "#%% md\n"
    }
   },
   "source": [
    "# Analysis"
   ]
  },
  {
   "cell_type": "code",
   "execution_count": 3,
   "metadata": {},
   "outputs": [],
   "source": [
    "# Imports\n",
    "import pandas as pd\n",
    "import numpy as np\n",
    "import matplotlib.pyplot as plt\n",
    "import seaborn as sns"
   ]
  },
  {
   "cell_type": "code",
   "execution_count": 4,
   "metadata": {},
   "outputs": [],
   "source": [
    "fraud = pd.read_csv('../data/data.csv')"
   ]
  },
  {
   "cell_type": "markdown",
   "source": [
    "Inspect Data"
   ],
   "metadata": {
    "collapsed": false
   }
  },
  {
   "cell_type": "code",
   "execution_count": 5,
   "outputs": [],
   "source": [
    "rsample = fraud.sample(frac=1)"
   ],
   "metadata": {
    "collapsed": false,
    "pycharm": {
     "name": "#%%\n"
    }
   }
  },
  {
   "cell_type": "code",
   "execution_count": 6,
   "outputs": [],
   "source": [
    "#print(rsample)\n",
    "#print(type(rsample))\n",
    "sample = rsample.head()\n",
    "n = len(fraud)"
   ],
   "metadata": {
    "collapsed": false,
    "pycharm": {
     "name": "#%%\n"
    }
   }
  },
  {
   "cell_type": "code",
   "execution_count": 8,
   "outputs": [
    {
     "name": "stdout",
     "output_type": "stream",
     "text": [
      "         step      type     amount     nameOrig  oldbalanceOrg  \\\n",
      "6333282   690   CASH_IN   56451.23  C1235760357        74505.0   \n",
      "5617786   395  CASH_OUT  457156.91  C1686897363            0.0   \n",
      "4971024   352   CASH_IN  239028.53  C1316001730         2078.0   \n",
      "1722375   160  TRANSFER  219699.70   C717912672            0.0   \n",
      "6266035   614  CASH_OUT  107286.79  C1973974296            0.0   \n",
      "\n",
      "         newbalanceOrig     nameDest  oldbalanceDest  newbalanceDest  isFraud  \\\n",
      "6333282       130956.23  C1959970578        47245.79            0.00        0   \n",
      "5617786            0.00   C271588719     13661950.86     14119107.77        0   \n",
      "4971024       241106.53  C1416474792       796896.56       557868.03        0   \n",
      "1722375            0.00  C1995516241      3075001.81      3294701.51        0   \n",
      "6266035            0.00  C1133189935      1980392.36      2087679.16        0   \n",
      "\n",
      "         isFlaggedFraud  \n",
      "6333282               0  \n",
      "5617786               0  \n",
      "4971024               0  \n",
      "1722375               0  \n",
      "6266035               0  \n",
      "Length:  6362620\n"
     ]
    }
   ],
   "source": [
    "print(sample)\n",
    "print(\"Length: \", n) # 6,362,620 rows"
   ],
   "metadata": {
    "collapsed": false,
    "pycharm": {
     "name": "#%%\n"
    }
   }
  },
  {
   "cell_type": "markdown",
   "source": [
    "### Columns\n",
    "* step:\n",
    "* type:\n",
    "* amount:\n",
    "* nameOrig\n",
    "* oldbalanceOrg\n",
    "* newbalanceOrg\n",
    "* nameDest\n",
    "* oldbalanceDest\n",
    "* newbalanceDest\n",
    "#### Last two\n",
    "* isFraud\n",
    "* isFlaggedFraud"
   ],
   "metadata": {
    "collapsed": false,
    "pycharm": {
     "name": "#%% md\n"
    }
   }
  },
  {
   "cell_type": "markdown",
   "source": [
    "* Get feature matrix and labels"
   ],
   "metadata": {
    "collapsed": false,
    "pycharm": {
     "name": "#%% md\n"
    }
   }
  },
  {
   "cell_type": "code",
   "execution_count": 9,
   "outputs": [],
   "source": [
    "# Feature Matrix\n",
    "X = fraud.drop(\"isFraud\", axis=1)\n",
    "# Labels\n",
    "y = fraud[\"isFraud\"]"
   ],
   "metadata": {
    "collapsed": false,
    "pycharm": {
     "name": "#%%\n"
    }
   }
  },
  {
   "cell_type": "code",
   "execution_count": 12,
   "outputs": [
    {
     "name": "stdout",
     "output_type": "stream",
     "text": [
      "X:     step      type    amount     nameOrig  oldbalanceOrg  newbalanceOrig  \\\n",
      "0     1   PAYMENT   9839.64  C1231006815       170136.0       160296.36   \n",
      "1     1   PAYMENT   1864.28  C1666544295        21249.0        19384.72   \n",
      "2     1  TRANSFER    181.00  C1305486145          181.0            0.00   \n",
      "3     1  CASH_OUT    181.00   C840083671          181.0            0.00   \n",
      "4     1   PAYMENT  11668.14  C2048537720        41554.0        29885.86   \n",
      "\n",
      "      nameDest  oldbalanceDest  newbalanceDest  isFlaggedFraud  \n",
      "0  M1979787155             0.0             0.0               0  \n",
      "1  M2044282225             0.0             0.0               0  \n",
      "2   C553264065             0.0             0.0               0  \n",
      "3    C38997010         21182.0             0.0               0  \n",
      "4  M1230701703             0.0             0.0               0  \n",
      "y:  0    0\n",
      "1    0\n",
      "2    1\n",
      "3    1\n",
      "4    0\n",
      "Name: isFraud, dtype: int64\n"
     ]
    }
   ],
   "source": [
    "print(\"X: \", X.head())\n",
    "print(\"y: \", y.head())"
   ],
   "metadata": {
    "collapsed": false,
    "pycharm": {
     "name": "#%%\n"
    }
   }
  },
  {
   "cell_type": "markdown",
   "source": [
    "* choose right model and hyp from sklearn flowchart"
   ],
   "metadata": {
    "collapsed": false,
    "pycharm": {
     "name": "#%% md\n"
    }
   }
  }
 ]
}