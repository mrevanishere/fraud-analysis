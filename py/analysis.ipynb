{
 "metadata": {
  "language_info": {
   "codemirror_mode": {
    "name": "ipython",
    "version": 3
   },
   "file_extension": ".py",
   "mimetype": "text/x-python",
   "name": "python",
   "nbconvert_exporter": "python",
   "pygments_lexer": "ipython3",
   "version": 3
  },
  "orig_nbformat": 2,
  "kernelspec": {
   "name": "python3",
   "language": "python",
   "display_name": "Python 3"
  }
 },
 "nbformat": 4,
 "nbformat_minor": 2,
 "cells": [
  {
   "cell_type": "markdown",
   "metadata": {
    "pycharm": {
     "name": "#%% md\n"
    }
   },
   "source": [
    "# Analysis"
   ]
  },
  {
   "cell_type": "code",
   "execution_count": 1,
   "metadata": {},
   "outputs": [],
   "source": [
    "# Imports\n",
    "import pandas as pd\n",
    "import numpy as np\n",
    "import matplotlib.pyplot as plt\n",
    "import seaborn as sns"
   ]
  },
  {
   "cell_type": "code",
   "execution_count": 2,
   "metadata": {},
   "outputs": [],
   "source": [
    "fraud = pd.read_csv('../data/data.csv')"
   ]
  },
  {
   "cell_type": "markdown",
   "source": [
    "Inspect Data"
   ],
   "metadata": {
    "collapsed": false
   }
  },
  {
   "cell_type": "code",
   "execution_count": 3,
   "outputs": [],
   "source": [
    "types = fraud.dtypes"
   ],
   "metadata": {
    "collapsed": false,
    "pycharm": {
     "name": "#%%\n"
    }
   }
  },
  {
   "cell_type": "code",
   "execution_count": 4,
   "outputs": [],
   "source": [
    "rsample = fraud.sample(frac=1)"
   ],
   "metadata": {
    "collapsed": false,
    "pycharm": {
     "name": "#%%\n"
    }
   }
  },
  {
   "cell_type": "code",
   "execution_count": 5,
   "outputs": [],
   "source": [
    "#print(rsample)\n",
    "#print(type(rsample))\n",
    "sample = rsample.head()\n",
    "n = len(fraud)"
   ],
   "metadata": {
    "collapsed": false,
    "pycharm": {
     "name": "#%%\n"
    }
   }
  },
  {
   "cell_type": "code",
   "execution_count": 6,
   "outputs": [
    {
     "name": "stdout",
     "output_type": "stream",
     "text": [
      "         step      type     amount     nameOrig  oldbalanceOrg  \\\n",
      "2860701   227   PAYMENT   41464.80   C917192543            0.0   \n",
      "5840673   402   CASH_IN  275111.14   C426190816        30046.0   \n",
      "2045048   181  CASH_OUT   82425.78   C635870600       160577.0   \n",
      "1483073   141   PAYMENT   10175.03  C1901563531        60897.0   \n",
      "3615575   273   PAYMENT   16205.02  C1358923493         5081.0   \n",
      "\n",
      "         newbalanceOrig     nameDest  oldbalanceDest  newbalanceDest  isFraud  \\\n",
      "2860701            0.00  M1330516141            0.00            0.00        0   \n",
      "5840673       305157.14  C1081640579       463321.54       188210.40        0   \n",
      "2045048        78151.22  C2098748440       223421.63       305847.41        0   \n",
      "1483073        50721.97  M1173634110            0.00            0.00        0   \n",
      "3615575            0.00   M463018440            0.00            0.00        0   \n",
      "\n",
      "         isFlaggedFraud  \n",
      "2860701               0  \n",
      "5840673               0  \n",
      "2045048               0  \n",
      "1483073               0  \n",
      "3615575               0   \n",
      "\n",
      "Length:  6362620 \n",
      "\n",
      "Types:  step                int64\n",
      "type               object\n",
      "amount            float64\n",
      "nameOrig           object\n",
      "oldbalanceOrg     float64\n",
      "newbalanceOrig    float64\n",
      "nameDest           object\n",
      "oldbalanceDest    float64\n",
      "newbalanceDest    float64\n",
      "isFraud             int64\n",
      "isFlaggedFraud      int64\n",
      "dtype: object\n"
     ]
    }
   ],
   "source": [
    "print(sample, \"\\n\")\n",
    "print(\"Length: \", n, \"\\n\") # 6,362,620 rows\n",
    "print(\"Types: \", types)"
   ],
   "metadata": {
    "collapsed": false,
    "pycharm": {
     "name": "#%%\n"
    }
   }
  },
  {
   "cell_type": "code",
   "execution_count": 7,
   "outputs": [],
   "source": [
    "# Description\n",
    "stats = fraud.describe().apply(lambda s: s.apply('{0:.2f}'.format))"
   ],
   "metadata": {
    "collapsed": false,
    "pycharm": {
     "name": "#%%\n"
    }
   }
  },
  {
   "cell_type": "code",
   "execution_count": 8,
   "outputs": [
    {
     "name": "stdout",
     "output_type": "stream",
     "text": [
      "             step       amount oldbalanceOrg newbalanceOrig oldbalanceDest  \\\n",
      "count  6362620.00   6362620.00    6362620.00     6362620.00     6362620.00   \n",
      "mean       243.40    179861.90     833883.10      855113.67     1100701.67   \n",
      "std        142.33    603858.23    2888242.67     2924048.50     3399180.11   \n",
      "min          1.00         0.00          0.00           0.00           0.00   \n",
      "25%        156.00     13389.57          0.00           0.00           0.00   \n",
      "50%        239.00     74871.94      14208.00           0.00      132705.66   \n",
      "75%        335.00    208721.48     107315.18      144258.41      943036.71   \n",
      "max        743.00  92445516.64   59585040.37    49585040.37   356015889.35   \n",
      "\n",
      "      newbalanceDest     isFraud isFlaggedFraud  \n",
      "count     6362620.00  6362620.00     6362620.00  \n",
      "mean      1224996.40        0.00           0.00  \n",
      "std       3674128.94        0.04           0.00  \n",
      "min             0.00        0.00           0.00  \n",
      "25%             0.00        0.00           0.00  \n",
      "50%        214661.44        0.00           0.00  \n",
      "75%       1111909.25        0.00           0.00  \n",
      "max     356179278.92        1.00           1.00  \n"
     ]
    }
   ],
   "source": [
    "print(stats)"
   ],
   "metadata": {
    "collapsed": false,
    "pycharm": {
     "name": "#%%\n"
    }
   }
  },
  {
   "cell_type": "markdown",
   "source": [
    "## Plots\n",
    "* https://pandas.pydata.org/pandas-docs/version/0.23.4/generated/pandas.DataFrame.plot.html\n",
    "* https://matplotlib.org/stable/api/_as_gen/matplotlib.pyplot.html"
   ],
   "metadata": {
    "collapsed": false,
    "pycharm": {
     "name": "#%% md\n"
    }
   }
  },
  {
   "cell_type": "code",
   "execution_count": 68,
   "outputs": [],
   "source": [
    "# Filtered Data\n",
    "flagged_rows = fraud[fraud.isFlaggedFraud == 1]\n",
    "unflagged_rows=fraud[fraud.isFlaggedFraud == 0]\n",
    "fraud_rows = fraud[fraud.isFraud == 1]\n",
    "notfraud_rows = fraud[fraud.isFraud == 0]"
   ],
   "metadata": {
    "collapsed": false,
    "pycharm": {
     "name": "#%%\n"
    }
   }
  },
  {
   "cell_type": "code",
   "execution_count": 46,
   "outputs": [
    {
     "data": {
      "text/plain": "   step      type    amount     nameOrig  oldbalanceOrg  newbalanceOrig  \\\n0     1   PAYMENT   9839.64  C1231006815       170136.0       160296.36   \n1     1   PAYMENT   1864.28  C1666544295        21249.0        19384.72   \n2     1  TRANSFER    181.00  C1305486145          181.0            0.00   \n3     1  CASH_OUT    181.00   C840083671          181.0            0.00   \n4     1   PAYMENT  11668.14  C2048537720        41554.0        29885.86   \n\n      nameDest  oldbalanceDest  newbalanceDest  isFraud  isFlaggedFraud  \n0  M1979787155             0.0             0.0        0               0  \n1  M2044282225             0.0             0.0        0               0  \n2   C553264065             0.0             0.0        1               0  \n3    C38997010         21182.0             0.0        1               0  \n4  M1230701703             0.0             0.0        0               0  ",
      "text/html": "<div>\n<style scoped>\n    .dataframe tbody tr th:only-of-type {\n        vertical-align: middle;\n    }\n\n    .dataframe tbody tr th {\n        vertical-align: top;\n    }\n\n    .dataframe thead th {\n        text-align: right;\n    }\n</style>\n<table border=\"1\" class=\"dataframe\">\n  <thead>\n    <tr style=\"text-align: right;\">\n      <th></th>\n      <th>step</th>\n      <th>type</th>\n      <th>amount</th>\n      <th>nameOrig</th>\n      <th>oldbalanceOrg</th>\n      <th>newbalanceOrig</th>\n      <th>nameDest</th>\n      <th>oldbalanceDest</th>\n      <th>newbalanceDest</th>\n      <th>isFraud</th>\n      <th>isFlaggedFraud</th>\n    </tr>\n  </thead>\n  <tbody>\n    <tr>\n      <th>0</th>\n      <td>1</td>\n      <td>PAYMENT</td>\n      <td>9839.64</td>\n      <td>C1231006815</td>\n      <td>170136.0</td>\n      <td>160296.36</td>\n      <td>M1979787155</td>\n      <td>0.0</td>\n      <td>0.0</td>\n      <td>0</td>\n      <td>0</td>\n    </tr>\n    <tr>\n      <th>1</th>\n      <td>1</td>\n      <td>PAYMENT</td>\n      <td>1864.28</td>\n      <td>C1666544295</td>\n      <td>21249.0</td>\n      <td>19384.72</td>\n      <td>M2044282225</td>\n      <td>0.0</td>\n      <td>0.0</td>\n      <td>0</td>\n      <td>0</td>\n    </tr>\n    <tr>\n      <th>2</th>\n      <td>1</td>\n      <td>TRANSFER</td>\n      <td>181.00</td>\n      <td>C1305486145</td>\n      <td>181.0</td>\n      <td>0.00</td>\n      <td>C553264065</td>\n      <td>0.0</td>\n      <td>0.0</td>\n      <td>1</td>\n      <td>0</td>\n    </tr>\n    <tr>\n      <th>3</th>\n      <td>1</td>\n      <td>CASH_OUT</td>\n      <td>181.00</td>\n      <td>C840083671</td>\n      <td>181.0</td>\n      <td>0.00</td>\n      <td>C38997010</td>\n      <td>21182.0</td>\n      <td>0.0</td>\n      <td>1</td>\n      <td>0</td>\n    </tr>\n    <tr>\n      <th>4</th>\n      <td>1</td>\n      <td>PAYMENT</td>\n      <td>11668.14</td>\n      <td>C2048537720</td>\n      <td>41554.0</td>\n      <td>29885.86</td>\n      <td>M1230701703</td>\n      <td>0.0</td>\n      <td>0.0</td>\n      <td>0</td>\n      <td>0</td>\n    </tr>\n  </tbody>\n</table>\n</div>"
     },
     "execution_count": 46,
     "metadata": {},
     "output_type": "execute_result"
    }
   ],
   "source": [
    "flagged_rows.head()\n",
    "unflagged_rows.head()"
   ],
   "metadata": {
    "collapsed": false,
    "pycharm": {
     "name": "#%%\n"
    }
   }
  },
  {
   "cell_type": "markdown",
   "source": [
    "### Amount vs Steps\n",
    "* Seems to be a sharp cutoff in amount among all steps\n",
    "* huge spike of amount around ~300 steps"
   ],
   "metadata": {
    "collapsed": false,
    "pycharm": {
     "name": "#%% md\n"
    }
   }
  },
  {
   "cell_type": "code",
   "execution_count": 48,
   "outputs": [
    {
     "data": {
      "text/plain": "<Figure size 720x720 with 1 Axes>",
      "image/png": "[encoded data removed]"
     },
     "metadata": {
      "needs_background": "light"
     },
     "output_type": "display_data"
    }
   ],
   "source": [
    "# Amount vs Steps\n",
    "fig1, ax1 = plt.subplots(figsize=(10, 10)) # width, height\n",
    "ax1.plot(fraud.amount, fraud.step);\n",
    "ax1.set(xlabel='amount', ylabel='steps', title='Amount vs Steps')\n",
    "fig1.savefig('AmountStep.png')"
   ],
   "metadata": {
    "collapsed": false,
    "pycharm": {
     "name": "#%%\n"
    }
   }
  },
  {
   "cell_type": "code",
   "execution_count": 64,
   "outputs": [
    {
     "data": {
      "text/plain": "<Figure size 720x720 with 1 Axes>",
      "image/png": "[encoded data removed]"
     },
     "metadata": {
      "needs_background": "light"
     },
     "output_type": "display_data"
    }
   ],
   "source": [
    "# Range\n",
    "#bin_range = range(min(unflagged_rows), max(unflagged_rows) + 50, 50)\n",
    "\n",
    "# Amout hist for nonflagged\n",
    "fig2, ax2 = plt.subplots(figsize=(10,10))\n",
    "ax2.hist(unflagged_rows.amount, bins=50, range=[0, 15000000], density=True, color=\"Purple\")\n",
    "ax2.set(xlabel='unflagged amount', ylabel='Freq', title='Amount Dist of Unflagged')\n",
    "fig2.savefig('AmountDistUnflagged.png')"
   ],
   "metadata": {
    "collapsed": false,
    "pycharm": {
     "name": "#%%\n"
    }
   }
  },
  {
   "cell_type": "code",
   "execution_count": 67,
   "outputs": [
    {
     "data": {
      "text/plain": "<Figure size 720x720 with 1 Axes>",
      "image/png": "[encoded data removed]"
     },
     "metadata": {
      "needs_background": "light"
     },
     "output_type": "display_data"
    }
   ],
   "source": [
    "# Amount hist for Flagged\n",
    "# rsample.plot(x='amount', y='isFlaggedFraud', kind=\"hist\")\n",
    "fig3, ax3 = plt.subplots(figsize=(10, 10)) # width, height\n",
    "ax3.hist(flagged_rows.amount, bins=10, range=[0, 15000000], density=True, cumulative=False, color=\"Magenta\")\n",
    "ax3.set(xlabel='amount', ylabel='Freq', title='Amount vs Freq')\n",
    "#ax.set_xlim([0, 20000000])\n",
    "fig3.savefig('AmountDistFlagged.png')"
   ],
   "metadata": {
    "collapsed": false,
    "pycharm": {
     "name": "#%%\n"
    }
   }
  },
  {
   "cell_type": "code",
   "execution_count": 70,
   "outputs": [
    {
     "data": {
      "text/plain": "<Figure size 720x720 with 1 Axes>",
      "image/png": "[encoded data removed]"
     },
     "metadata": {
      "needs_background": "light"
     },
     "output_type": "display_data"
    }
   ],
   "source": [
    "# Amount hist for Fraudulent transactions\n",
    "fig4, ax4 = plt.subplots(figsize=(10,10))\n",
    "ax4.hist(fraud_rows.amount, bins=10, range=[0, 15000000], density=True, color=\"Red\")\n",
    "ax4.set(xlabel='amount', ylabel='Freq', title='Amount dist for Fraudulent transactions')\n",
    "fig4.savefig('AmountDistFraud.png')"
   ],
   "metadata": {
    "collapsed": false,
    "pycharm": {
     "name": "#%%\n"
    }
   }
  },
  {
   "cell_type": "code",
   "execution_count": 71,
   "outputs": [
    {
     "data": {
      "text/plain": "<Figure size 720x720 with 1 Axes>",
      "image/png": "[encoded data removed]"
     },
     "metadata": {
      "needs_background": "light"
     },
     "output_type": "display_data"
    }
   ],
   "source": [
    "# Amount hist for Non-Fraudulent transactions\n",
    "fig5, ax5 = plt.subplots(figsize=(10,10))\n",
    "ax5.hist(notfraud_rows.amount, bins=10, range=[0, 15000000], density=True, color=\"Green\")\n",
    "ax5.set(xlabel='amount', ylabel='Freq', title='Amount dist for Non-Fraudulent transactions')\n",
    "fig5.savefig('AmountDistNotFraud.png')"
   ],
   "metadata": {
    "collapsed": false,
    "pycharm": {
     "name": "#%%\n"
    }
   }
  },
  {
   "cell_type": "markdown",
   "source": [
    "From these plots, it can be seen that potential and actual fraudulent transactions, if the amount is higher than\n",
    "a certain amount, then it is most likely a fraudulent.  That amount seems to be around .175*10^7"
   ],
   "metadata": {
    "collapsed": false,
    "pycharm": {
     "name": "#%% md\n"
    }
   }
  },
  {
   "cell_type": "code",
   "execution_count": 79,
   "outputs": [
    {
     "data": {
      "text/plain": "<Figure size 720x720 with 2 Axes>",
      "image/png": "[encoded data removed]"
     },
     "metadata": {
      "needs_background": "light"
     },
     "output_type": "display_data"
    }
   ],
   "source": [
    "# Range\n",
    "range6 =[0, 800]\n",
    "\n",
    "# Step distribution for non and fraudulent transactions\n",
    "fig6, ((ax61, ax62)) = plt.subplots(nrows=1, ncols=2, figsize=(10, 10))\n",
    "ax61.hist(fraud_rows.step, bins=20, range=range6, density=True, color=\"yellow\")\n",
    "ax62.hist(notfraud_rows.step, bins=20, range=range6, density=True, color=\"blue\")\n",
    "ax61.set(title=\"Step dist for Fraud\")\n",
    "ax62.set(title=\"Step dist for NotFraud\")\n",
    "fig6.savefig('StepDists.png')"
   ],
   "metadata": {
    "collapsed": false,
    "pycharm": {
     "name": "#%%\n"
    }
   }
  },
  {
   "cell_type": "markdown",
   "source": [
    "We see that Fraud also as a higher chance to have more steps.\n",
    "\n",
    "High steps + High amount == Higher chance to be Fraud\n",
    "\n",
    "\n",
    "#### Possible points of analysis\n",
    "* newbalanceOrg going to 0\n",
    "* previously fraudulent merchant/customers\n",
    "* oldbalanceDeset raising from 0\n",
    "* what types is fraud most likely to be"
   ],
   "metadata": {
    "collapsed": false,
    "pycharm": {
     "name": "#%% md\n"
    }
   }
  },
  {
   "cell_type": "code",
   "execution_count": 81,
   "outputs": [
    {
     "data": {
      "text/plain": "<Figure size 720x720 with 2 Axes>",
      "image/png": "[encoded data removed]"
     },
     "metadata": {
      "needs_background": "light"
     },
     "output_type": "display_data"
    }
   ],
   "source": [
    "# Types\n",
    "fig7, ((ax71, ax72)) = plt.subplots(nrows=1, ncols=2, figsize=(10,10))\n",
    "ax71.hist(fraud_rows.type)\n",
    "ax72.hist(notfraud_rows.type)\n",
    "ax71.set(title=\"Type hist for Fraud\")\n",
    "ax72.set(title=\"Type hist for NotFraud\")\n",
    "fig7.savefig('TypeHist.png')"
   ],
   "metadata": {
    "collapsed": false,
    "pycharm": {
     "name": "#%%\n"
    }
   }
  },
  {
   "cell_type": "markdown",
   "source": [
    "Most to all fraudulent transactions are either TRANSFER or CASH_OUT"
   ],
   "metadata": {
    "collapsed": false,
    "pycharm": {
     "name": "#%% md\n"
    }
   }
  },
  {
   "cell_type": "code",
   "execution_count": 89,
   "outputs": [
    {
     "data": {
      "text/plain": "[Text(0.5, 1.0, 'NotFraud')]"
     },
     "execution_count": 89,
     "metadata": {},
     "output_type": "execute_result"
    },
    {
     "data": {
      "text/plain": "<Figure size 720x720 with 4 Axes>",
      "image/png": "[encoded data removed]"
     },
     "metadata": {
      "needs_background": "light"
     },
     "output_type": "display_data"
    }
   ],
   "source": [
    "# newBalanceOrig, newbalanceDest\n",
    "fig8, ((ax81, ax82), (ax83, ax84)) = plt.subplots(nrows=2, ncols=2, figsize=(10,10))\n",
    "ax81.hist(fraud_rows.newbalanceOrig)\n",
    "ax82.hist(notfraud_rows.newbalanceOrig)\n",
    "ax81.set(title=\"Fraud\")\n",
    "ax82.set(title=\"NotFraud\")\n",
    "ax83.hist(fraud_rows.newbalanceDest)\n",
    "ax84.hist(notfraud_rows.newbalanceDest)\n",
    "ax83.set(title=\"Fraud\")\n",
    "ax84.set(title=\"NotFraud\")\n",
    "#fig8.savefig('TypeHist.png')"
   ],
   "metadata": {
    "collapsed": false,
    "pycharm": {
     "name": "#%%\n"
    }
   }
  },
  {
   "cell_type": "markdown",
   "source": [
    "# Dataset Description\n",
    "* 6.3 million rows\n",
    "* 11 features\n",
    "\n",
    "### Columns\n",
    "* Numerical: **step**: maps unit of time in real world (steps to hours)\n",
    "* Categorical: **type**: CASH-IN, CASH-OUT, DEBIT, PAYMENT, TRANSFER (discrete)\n",
    "* Numerical: **amount**: amount of transaction in local currency\n",
    "* ID: **nameOrig**: customer who started transaction (Customer ID, Merchant ID)\n",
    "* Numerical: oldbalanceOrg: initial balance before transaction\n",
    "* Numerical: **newbalanceOrig**: new balance after transaction\n",
    "* ID: nameDest: customer who is recipient of the transaction\n",
    "* Numerical: oldbalanceDest: initial balance recipient before transaction (no info for merchants)\n",
    "* Numerical: newbalanceDest: new balance recipient after transaction (no info for merchants\n",
    "#### Last two\n",
    "* Bool (Target): isFraud: is a fraudulent transaction (fraud if agent aims to emptying funds into another account and cashing out)\n",
    "* Bool: isFlaggedFraud: any massive transfers or illegal attempts"
   ],
   "metadata": {
    "collapsed": false,
    "pycharm": {
     "name": "#%% md\n"
    }
   }
  },
  {
   "cell_type": "markdown",
   "source": [
    "# Data preparation and training\n",
    "* ~~Prep NA~~ (no null values in this dataset)\n",
    "* Get feature matrix and labels\n",
    "* Train\n",
    "* Test\n",
    "* Evaluate"
   ],
   "metadata": {
    "collapsed": false,
    "pycharm": {
     "name": "#%% md\n"
    }
   }
  },
  {
   "cell_type": "code",
   "execution_count": 104,
   "outputs": [],
   "source": [
    "import pandas as pd\n",
    "import numpy as np\n",
    "\n",
    "from sklearn.compose import ColumnTransformer\n",
    "from sklearn.pipeline import Pipeline\n",
    "from sklearn.impute import SimpleImputer\n",
    "from sklearn.preprocessing import OneHotEncoder\n",
    "\n",
    "from sklearn.model_selection import train_test_split"
   ],
   "metadata": {
    "collapsed": false,
    "pycharm": {
     "name": "#%%\n"
    }
   }
  },
  {
   "cell_type": "code",
   "execution_count": 97,
   "outputs": [],
   "source": [
    "data = pd.read_csv('../data/data.csv')"
   ],
   "metadata": {
    "collapsed": false,
    "pycharm": {
     "name": "#%%\n"
    }
   }
  },
  {
   "cell_type": "markdown",
   "source": [
    "* choose right model and hyp from sklearn flowchart\n",
    "* Categorizing: with labeled Data: 6m samples:\n",
    "-> SGD Classifier and kernel approx"
   ],
   "metadata": {
    "collapsed": false
   }
  },
  {
   "cell_type": "code",
   "execution_count": 120,
   "outputs": [],
   "source": [
    "from sklearn.linear_model import SGDClassifier\n",
    "# Create Pipeline\n",
    "\n",
    "# Define Features and Transformer\n",
    "categorical_features =[\"type\"]\n",
    "categorical_transformer = Pipeline(steps=[\n",
    "    (\"imputer\", SimpleImputer(strategy=\"constant\", fill_value=\"missing\")),\n",
    "     (\"onehot\", OneHotEncoder(handle_unknown=\"ignore\"))\n",
    "])\n",
    "\n",
    "numerical_features = ['step', 'amount', 'oldbalanceOrg', 'newbalanceOrig', 'oldbalanceDest', 'newbalanceDest']\n",
    "numerical_transformer = Pipeline(steps=[\n",
    "    (\"imputer\", SimpleImputer(strategy=\"mean\", fill_value=\"missing\"))\n",
    "])\n",
    "\n",
    "# id_features = ['nameOrig', 'nameDest']\n",
    "# id_transformer = Pipeline(step=[\n",
    "#     (\"imputer\", SimpleImputer(strategy=\"constant\", fill_value=\"missing\")),\n",
    "#     (\"onehot\")\n",
    "# ])\n",
    "\n",
    "#flag_feature = [\"isFlaggedFraud\"]\n",
    "#flag_transformer = Pipeline\n",
    "\n",
    "preprocessor = ColumnTransformer(\n",
    "    transformers=[\n",
    "        (\"cat\", categorical_transformer, categorical_features),\n",
    "        (\"num\", numerical_transformer, numerical_features)\n",
    "    ]\n",
    ")\n",
    "\n",
    "clf = Pipeline(steps=[\n",
    "    (\"preprocessor\", preprocessor),\n",
    "    (\"model\", SGDClassifier())\n",
    "])"
   ],
   "metadata": {
    "collapsed": false,
    "pycharm": {
     "name": "#%%\n"
    }
   }
  },
  {
   "cell_type": "code",
   "execution_count": 121,
   "outputs": [
    {
     "name": "stdout",
     "output_type": "stream",
     "text": [
      "X:     step      type    amount  oldbalanceOrg  newbalanceOrig  oldbalanceDest  \\\n",
      "0     1   PAYMENT   9839.64       170136.0       160296.36             0.0   \n",
      "1     1   PAYMENT   1864.28        21249.0        19384.72             0.0   \n",
      "2     1  TRANSFER    181.00          181.0            0.00             0.0   \n",
      "3     1  CASH_OUT    181.00          181.0            0.00         21182.0   \n",
      "4     1   PAYMENT  11668.14        41554.0        29885.86             0.0   \n",
      "\n",
      "   newbalanceDest  isFlaggedFraud  \n",
      "0             0.0               0  \n",
      "1             0.0               0  \n",
      "2             0.0               0  \n",
      "3             0.0               0  \n",
      "4             0.0               0  \n",
      "y:  0    0\n",
      "1    0\n",
      "2    1\n",
      "3    1\n",
      "4    0\n",
      "Name: isFraud, dtype: int64\n"
     ]
    }
   ],
   "source": [
    "# Feature Matrix\n",
    "X = fraud.drop(\"isFraud\", axis=1).drop(\"nameDest\", axis=1).drop(\"nameOrig\", axis=1)\n",
    "# remove IDs for now\n",
    "\n",
    "\n",
    "# Labels\n",
    "y = fraud[\"isFraud\"]\n",
    "\n",
    "print(\"X: \", X.head())\n",
    "print(\"y: \", y.head())"
   ],
   "metadata": {
    "collapsed": false,
    "pycharm": {
     "name": "#%%\n"
    }
   }
  },
  {
   "cell_type": "code",
   "execution_count": 122,
   "outputs": [],
   "source": [
    "#Split into sets\n",
    "X_train, X_test, y_train, y_test = train_test_split(X, y, test_size=.2)"
   ],
   "metadata": {
    "collapsed": false,
    "pycharm": {
     "name": "#%%\n"
    }
   }
  },
  {
   "cell_type": "code",
   "execution_count": 123,
   "outputs": [
    {
     "data": {
      "text/plain": "Pipeline(steps=[('preprocessor',\n                 ColumnTransformer(transformers=[('cat',\n                                                  Pipeline(steps=[('imputer',\n                                                                   SimpleImputer(fill_value='missing',\n                                                                                 strategy='constant')),\n                                                                  ('onehot',\n                                                                   OneHotEncoder(handle_unknown='ignore'))]),\n                                                  ['type']),\n                                                 ('num',\n                                                  Pipeline(steps=[('imputer',\n                                                                   SimpleImputer(fill_value='missing'))]),\n                                                  ['step', 'amount',\n                                                   'oldbalanceOrg',\n                                                   'newbalanceOrig',\n                                                   'oldbalanceDest',\n                                                   'newbalanceDest'])])),\n                ('model', SGDClassifier())])"
     },
     "execution_count": 123,
     "metadata": {},
     "output_type": "execute_result"
    }
   ],
   "source": [
    "clf.fit(X_train, y_train)"
   ],
   "metadata": {
    "collapsed": false,
    "pycharm": {
     "name": "#%%\n"
    }
   }
  },
  {
   "cell_type": "code",
   "execution_count": 124,
   "outputs": [
    {
     "data": {
      "text/plain": "0.9972644916716699"
     },
     "execution_count": 124,
     "metadata": {},
     "output_type": "execute_result"
    }
   ],
   "source": [
    "clf.score(X_test, y_test)"
   ],
   "metadata": {
    "collapsed": false,
    "pycharm": {
     "name": "#%%\n"
    }
   }
  },
  {
   "cell_type": "markdown",
   "source": [
    "* Results without the ID columns returns 99.7% accurate\n",
    "* Optimize hyperparameters with searchCV"
   ],
   "metadata": {
    "collapsed": false,
    "pycharm": {
     "name": "#%% md\n"
    }
   }
  },
  {
   "cell_type": "code",
   "execution_count": 129,
   "outputs": [],
   "source": [
    "'''\n",
    "from sklearn.model_selection import RandomizedSearchCV\n",
    "grid = {\n",
    "    \"loss\": ['hinge', 'modified_huber', 'log'],\n",
    "    \"penalty\": ['l2', 'l1', 'elasticnet'],\n",
    "    \"max_iter\": [1,5,10,15]\n",
    "}\n",
    "rs_clf = RandomizedSearchCV(\n",
    "    estimator=clf,\n",
    "    param_distributions=grid,\n",
    "    n_iter=10\n",
    ")\n",
    "# Run RS CLF\n",
    "rs_clf.fit(X_train, y_train)\n",
    "print(rs_clf.best_params)\n",
    "best = rs_clf.best_params_\n",
    "'''"
   ],
   "metadata": {
    "collapsed": false,
    "pycharm": {
     "name": "#%%\n"
    }
   }
  },
  {
   "cell_type": "markdown",
   "source": [
    "## Try other model:"
   ],
   "metadata": {
    "collapsed": false,
    "pycharm": {
     "name": "#%% md\n"
    }
   }
  },
  {
   "cell_type": "code",
   "execution_count": 132,
   "outputs": [],
   "source": [
    "from sklearn.svm import LinearSVC\n",
    "clf2 = Pipeline(steps=[\n",
    "    (\"preprocessor\", preprocessor),\n",
    "    (\"model\", LinearSVC())\n",
    "])"
   ],
   "metadata": {
    "collapsed": false,
    "pycharm": {
     "name": "#%%\n"
    }
   }
  },
  {
   "cell_type": "code",
   "execution_count": 133,
   "outputs": [
    {
     "name": "stderr",
     "output_type": "stream",
     "text": [
      "c:\\gith\\mrevanishere\\fraud-analysis\\venv\\lib\\site-packages\\sklearn\\svm\\_base.py:985: ConvergenceWarning: Liblinear failed to converge, increase the number of iterations.\n",
      "  warnings.warn(\"Liblinear failed to converge, increase \"\n"
     ]
    },
    {
     "data": {
      "text/plain": "Pipeline(steps=[('preprocessor',\n                 ColumnTransformer(transformers=[('cat',\n                                                  Pipeline(steps=[('imputer',\n                                                                   SimpleImputer(fill_value='missing',\n                                                                                 strategy='constant')),\n                                                                  ('onehot',\n                                                                   OneHotEncoder(handle_unknown='ignore'))]),\n                                                  ['type']),\n                                                 ('num',\n                                                  Pipeline(steps=[('imputer',\n                                                                   SimpleImputer(fill_value='missing'))]),\n                                                  ['step', 'amount',\n                                                   'oldbalanceOrg',\n                                                   'newbalanceOrig',\n                                                   'oldbalanceDest',\n                                                   'newbalanceDest'])])),\n                ('model', LinearSVC())])"
     },
     "execution_count": 133,
     "metadata": {},
     "output_type": "execute_result"
    }
   ],
   "source": [
    "clf2.fit(X_train, y_train)"
   ],
   "metadata": {
    "collapsed": false,
    "pycharm": {
     "name": "#%%\n"
    }
   }
  },
  {
   "cell_type": "code",
   "execution_count": 134,
   "outputs": [
    {
     "data": {
      "text/plain": "0.9883153480798791"
     },
     "execution_count": 134,
     "metadata": {},
     "output_type": "execute_result"
    }
   ],
   "source": [
    "clf2.score(X_test, y_test)"
   ],
   "metadata": {
    "collapsed": false,
    "pycharm": {
     "name": "#%%\n"
    }
   }
  },
  {
   "cell_type": "markdown",
   "source": [
    "* LinearSVC took too long because >100k samples\n",
    "* 98.8% accuracy\n",
    "\n",
    "## Evaluate both models"
   ],
   "metadata": {
    "collapsed": false,
    "pycharm": {
     "name": "#%% md\n"
    }
   }
  },
  {
   "cell_type": "code",
   "execution_count": 135,
   "outputs": [],
   "source": [
    "y_preds = clf.predict(X_test)\n",
    "y_preds2 = clf2.predict(X_test)"
   ],
   "metadata": {
    "collapsed": false,
    "pycharm": {
     "name": "#%%\n"
    }
   }
  },
  {
   "cell_type": "code",
   "execution_count": 140,
   "outputs": [
    {
     "name": "stdout",
     "output_type": "stream",
     "text": [
      "\n",
      "SGDClassifier: \n",
      "\n",
      "              precision    recall  f1-score   support\n",
      "\n",
      "           0       1.00      1.00      1.00   1270888\n",
      "           1       0.28      0.74      0.41      1636\n",
      "\n",
      "    accuracy                           1.00   1272524\n",
      "   macro avg       0.64      0.87      0.70   1272524\n",
      "weighted avg       1.00      1.00      1.00   1272524\n",
      "\n",
      "Accuracy:  0.9972644916716699\n",
      "\n",
      "LinearSVC: \n",
      "\n",
      "              precision    recall  f1-score   support\n",
      "\n",
      "           0       1.00      0.99      0.99   1270888\n",
      "           1       0.09      0.93      0.17      1636\n",
      "\n",
      "    accuracy                           0.99   1272524\n",
      "   macro avg       0.55      0.96      0.58   1272524\n",
      "weighted avg       1.00      0.99      0.99   1272524\n",
      "\n",
      "Accuracy:  0.9883153480798791\n"
     ]
    }
   ],
   "source": [
    "from sklearn.metrics import classification_report, confusion_matrix, accuracy_score\n",
    "\n",
    "print(\"\\nSGDClassifier: \\n\")\n",
    "print(classification_report(y_test, y_preds))\n",
    "confusion_matrix(y_test, y_preds)\n",
    "print(\"Accuracy: \", accuracy_score(y_test, y_preds))\n",
    "\n",
    "print(\"\\nLinearSVC: \\n\")\n",
    "print(classification_report(y_test, y_preds2))\n",
    "confusion_matrix(y_test, y_preds2)\n",
    "print(\"Accuracy: \", accuracy_score(y_test, y_preds2))"
   ],
   "metadata": {
    "collapsed": false,
    "pycharm": {
     "name": "#%%\n"
    }
   }
  },
  {
   "cell_type": "code",
   "execution_count": null,
   "outputs": [],
   "source": [],
   "metadata": {
    "collapsed": false,
    "pycharm": {
     "name": "#%%\n"
    }
   }
  }
 ]
}